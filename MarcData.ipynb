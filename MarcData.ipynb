{
 "cells": [
  {
   "cell_type": "code",
   "execution_count": 1,
   "id": "4411a37f",
   "metadata": {},
   "outputs": [],
   "source": [
    "from pymarc import MARCReader"
   ]
  },
  {
   "cell_type": "markdown",
   "id": "c812243a",
   "metadata": {},
   "source": [
    "### Suppressed from Discovery in a \"manual\" export\n",
    "\n",
    "Checking whether a record \"suppressed from discovery\" will be marked as deleted when exported by sandbox."
   ]
  },
  {
   "cell_type": "code",
   "execution_count": 14,
   "id": "d4ebcdd6",
   "metadata": {},
   "outputs": [],
   "source": [
    "suppressed_mms_id = '99239027600521'\n",
    "marked_mms_id = '99245641300521'"
   ]
  },
  {
   "cell_type": "code",
   "execution_count": 3,
   "id": "332473c5",
   "metadata": {},
   "outputs": [
    {
     "name": "stdout",
     "output_type": "stream",
     "text": [
      "/Users/davisda4/Downloads/BIBLIOGRAPHIC_1582954420006676_1.mrc\r\n",
      "/Users/davisda4/Downloads/BIBLIOGRAPHIC_1590207060006676_1.mrc\r\n",
      "/Users/davisda4/Downloads/nlmui-7501160.mrc\r\n"
     ]
    }
   ],
   "source": [
    "%ls ~/Downloads/*.mrc"
   ]
  },
  {
   "cell_type": "code",
   "execution_count": 5,
   "id": "c56063ce",
   "metadata": {},
   "outputs": [
    {
     "data": {
      "text/plain": [
       "1247"
      ]
     },
     "execution_count": 5,
     "metadata": {},
     "output_type": "execute_result"
    }
   ],
   "source": [
    "with open('/Users/davisda4/Downloads/BIBLIOGRAPHIC_1590207060006676_1.mrc', 'rb') as f:\n",
    "    reader = MARCReader(f, file_encoding='utf-8')\n",
    "    records = [rec for rec in reader]\n",
    "len(records)"
   ]
  },
  {
   "cell_type": "code",
   "execution_count": 7,
   "id": "a453dc24",
   "metadata": {},
   "outputs": [
    {
     "data": {
      "text/plain": [
       "'99998900000541'"
      ]
     },
     "execution_count": 7,
     "metadata": {},
     "output_type": "execute_result"
    }
   ],
   "source": [
    "def get_control_id(rec):\n",
    "    return rec.get_fields('001')[0].value()\n",
    "get_control_id(records[0])"
   ]
  },
  {
   "cell_type": "code",
   "execution_count": 15,
   "id": "8e95d932",
   "metadata": {},
   "outputs": [
    {
     "data": {
      "text/plain": [
       "'03402das a2200745 a 4500'"
      ]
     },
     "execution_count": 15,
     "metadata": {},
     "output_type": "execute_result"
    }
   ],
   "source": [
    "picklist = [rec for rec in records if get_control_id(rec) == marked_mms_id]\n",
    "picklist[0].leader"
   ]
  },
  {
   "cell_type": "code",
   "execution_count": 16,
   "id": "33f6dda0",
   "metadata": {},
   "outputs": [
    {
     "data": {
      "text/plain": [
       "'01160cas  2200241 i 4500'"
      ]
     },
     "execution_count": 16,
     "metadata": {},
     "output_type": "execute_result"
    }
   ],
   "source": [
    "other = [rec for rec in records if get_control_id(rec) == suppressed_mms_id]\n",
    "other[0].leader"
   ]
  },
  {
   "cell_type": "markdown",
   "id": "90a1d89d",
   "metadata": {},
   "source": [
    "But is it really suppressed? Let's double check."
   ]
  },
  {
   "cell_type": "code",
   "execution_count": 17,
   "id": "bc1eb534",
   "metadata": {},
   "outputs": [],
   "source": [
    "from nlm_alma import Configuration, ApiClient, CatalogApi\n",
    "\n",
    "config = Configuration.load('~/.config/alma-sandbox.yaml')\n",
    "client = ApiClient(config)\n",
    "bibapi = CatalogApi(client)"
   ]
  },
  {
   "cell_type": "code",
   "execution_count": 25,
   "id": "9611541f",
   "metadata": {},
   "outputs": [
    {
     "data": {
      "text/plain": [
       "'true'"
      ]
     },
     "execution_count": 25,
     "metadata": {},
     "output_type": "execute_result"
    }
   ],
   "source": [
    "r = bibapi.get_bib_by_id(suppressed_mms_id)\n",
    "r.suppress_from_publishing"
   ]
  },
  {
   "cell_type": "markdown",
   "id": "4359c257",
   "metadata": {},
   "source": [
    "### Suppressed From Discovery in a Publishing Profile\n",
    "\n",
    "Now we check whether it will be marked 'd' (suppressed) in a publishing profile."
   ]
  },
  {
   "cell_type": "code",
   "execution_count": 26,
   "id": "4a6e6a0d",
   "metadata": {},
   "outputs": [
    {
     "name": "stdout",
     "output_type": "stream",
     "text": [
      "sbox_2021072915_1590208860006676_new.mrc\r\n"
     ]
    }
   ],
   "source": [
    "%ls *.mrc"
   ]
  },
  {
   "cell_type": "code",
   "execution_count": 27,
   "id": "eb225ea5",
   "metadata": {},
   "outputs": [
    {
     "data": {
      "text/plain": [
       "1136"
      ]
     },
     "execution_count": 27,
     "metadata": {},
     "output_type": "execute_result"
    }
   ],
   "source": [
    "with open('sbox_2021072915_1590208860006676_new.mrc', 'rb') as f:\n",
    "    reader = MARCReader(f, file_encoding='utf-8')\n",
    "    published = [rec for rec in reader]\n",
    "len(published)"
   ]
  },
  {
   "cell_type": "markdown",
   "id": "5a6bb358",
   "metadata": {},
   "source": [
    "Note that we got fewer records, some were simply not published for some reason."
   ]
  },
  {
   "cell_type": "code",
   "execution_count": 29,
   "id": "0fe99a94",
   "metadata": {},
   "outputs": [
    {
     "data": {
      "text/plain": [
       "[]"
      ]
     },
     "execution_count": 29,
     "metadata": {},
     "output_type": "execute_result"
    }
   ],
   "source": [
    "[rec for rec in published if get_control_id(rec) == marked_mms_id]"
   ]
  },
  {
   "cell_type": "markdown",
   "id": "8190eb67",
   "metadata": {},
   "source": [
    "The record which we marked as deleted is not published at all."
   ]
  },
  {
   "cell_type": "code",
   "execution_count": 31,
   "id": "3e40f5d7",
   "metadata": {},
   "outputs": [
    {
     "data": {
      "text/plain": [
       "'01160das  2200241 i 4500'"
      ]
     },
     "execution_count": 31,
     "metadata": {},
     "output_type": "execute_result"
    }
   ],
   "source": [
    "[rec for rec in published if get_control_id(rec) == suppressed_mms_id][0].leader"
   ]
  },
  {
   "cell_type": "markdown",
   "id": "23944a77",
   "metadata": {},
   "source": [
    "Confirming our suspicion, the record is marked as 'd' in a publishing profile."
   ]
  },
  {
   "cell_type": "markdown",
   "id": "36d49d85",
   "metadata": {},
   "source": [
    "### Which Records Were Missing?\n",
    "\n",
    "It is odd that some records present in the manual export are missing.  Let's examine this."
   ]
  },
  {
   "cell_type": "code",
   "execution_count": 32,
   "id": "d5933065",
   "metadata": {},
   "outputs": [],
   "source": [
    "import pandas as pd\n",
    "import numpy as np\n",
    "from datetime import datetime"
   ]
  },
  {
   "cell_type": "code",
   "execution_count": 36,
   "id": "72b2db3b",
   "metadata": {},
   "outputs": [
    {
     "data": {
      "text/plain": [
       "datetime.datetime(2019, 12, 12, 13, 11, 18)"
      ]
     },
     "execution_count": 36,
     "metadata": {},
     "output_type": "execute_result"
    }
   ],
   "source": [
    "def get_update_dt(rec):\n",
    "    last_updated = ''.join(field.value() for field in rec.get_fields('005'))\n",
    "    last_updated, _ = last_updated.split('.')\n",
    "    return datetime.strptime(last_updated, \"%Y%m%d%H%M%S\")\n",
    "get_update_dt(records[0])"
   ]
  },
  {
   "cell_type": "code",
   "execution_count": 37,
   "id": "9eb959e4",
   "metadata": {},
   "outputs": [
    {
     "data": {
      "text/html": [
       "<div>\n",
       "<style scoped>\n",
       "    .dataframe tbody tr th:only-of-type {\n",
       "        vertical-align: middle;\n",
       "    }\n",
       "\n",
       "    .dataframe tbody tr th {\n",
       "        vertical-align: top;\n",
       "    }\n",
       "\n",
       "    .dataframe thead th {\n",
       "        text-align: right;\n",
       "    }\n",
       "</style>\n",
       "<table border=\"1\" class=\"dataframe\">\n",
       "  <thead>\n",
       "    <tr style=\"text-align: right;\">\n",
       "      <th></th>\n",
       "      <th>last_updated</th>\n",
       "    </tr>\n",
       "  </thead>\n",
       "  <tbody>\n",
       "    <tr>\n",
       "      <th>99998900000541</th>\n",
       "      <td>2019-12-12 13:11:18</td>\n",
       "    </tr>\n",
       "    <tr>\n",
       "      <th>99998930000541</th>\n",
       "      <td>2019-12-12 13:11:20</td>\n",
       "    </tr>\n",
       "    <tr>\n",
       "      <th>99998940000541</th>\n",
       "      <td>2019-12-12 13:11:17</td>\n",
       "    </tr>\n",
       "    <tr>\n",
       "      <th>99998960000541</th>\n",
       "      <td>2019-12-12 13:11:18</td>\n",
       "    </tr>\n",
       "    <tr>\n",
       "      <th>99999000000541</th>\n",
       "      <td>2019-12-12 13:11:18</td>\n",
       "    </tr>\n",
       "    <tr>\n",
       "      <th>...</th>\n",
       "      <td>...</td>\n",
       "    </tr>\n",
       "    <tr>\n",
       "      <th>991533660000541</th>\n",
       "      <td>2019-12-12 14:01:35</td>\n",
       "    </tr>\n",
       "    <tr>\n",
       "      <th>991533740000541</th>\n",
       "      <td>2019-12-12 14:01:37</td>\n",
       "    </tr>\n",
       "    <tr>\n",
       "      <th>991533790000541</th>\n",
       "      <td>2019-12-12 14:01:41</td>\n",
       "    </tr>\n",
       "    <tr>\n",
       "      <th>991541940000521</th>\n",
       "      <td>2019-12-12 14:02:04</td>\n",
       "    </tr>\n",
       "    <tr>\n",
       "      <th>991542110000521</th>\n",
       "      <td>2019-12-12 14:02:10</td>\n",
       "    </tr>\n",
       "  </tbody>\n",
       "</table>\n",
       "<p>1247 rows × 1 columns</p>\n",
       "</div>"
      ],
      "text/plain": [
       "                       last_updated\n",
       "99998900000541  2019-12-12 13:11:18\n",
       "99998930000541  2019-12-12 13:11:20\n",
       "99998940000541  2019-12-12 13:11:17\n",
       "99998960000541  2019-12-12 13:11:18\n",
       "99999000000541  2019-12-12 13:11:18\n",
       "...                             ...\n",
       "991533660000541 2019-12-12 14:01:35\n",
       "991533740000541 2019-12-12 14:01:37\n",
       "991533790000541 2019-12-12 14:01:41\n",
       "991541940000521 2019-12-12 14:02:04\n",
       "991542110000521 2019-12-12 14:02:10\n",
       "\n",
       "[1247 rows x 1 columns]"
      ]
     },
     "execution_count": 37,
     "metadata": {},
     "output_type": "execute_result"
    }
   ],
   "source": [
    "manual_fr = pd.DataFrame({'last_updated': [get_update_dt(rec) for rec in records]},\n",
    "    index=[get_control_id(rec) for rec in records]\n",
    ")\n",
    "manual_fr"
   ]
  },
  {
   "cell_type": "code",
   "execution_count": 39,
   "id": "ee5d172b",
   "metadata": {},
   "outputs": [
    {
     "data": {
      "text/html": [
       "<div>\n",
       "<style scoped>\n",
       "    .dataframe tbody tr th:only-of-type {\n",
       "        vertical-align: middle;\n",
       "    }\n",
       "\n",
       "    .dataframe tbody tr th {\n",
       "        vertical-align: top;\n",
       "    }\n",
       "\n",
       "    .dataframe thead th {\n",
       "        text-align: right;\n",
       "    }\n",
       "</style>\n",
       "<table border=\"1\" class=\"dataframe\">\n",
       "  <thead>\n",
       "    <tr style=\"text-align: right;\">\n",
       "      <th></th>\n",
       "      <th>last_updated</th>\n",
       "    </tr>\n",
       "  </thead>\n",
       "  <tbody>\n",
       "    <tr>\n",
       "      <th>991353610000541</th>\n",
       "      <td>2019-12-12 13:39:57</td>\n",
       "    </tr>\n",
       "    <tr>\n",
       "      <th>991358100000541</th>\n",
       "      <td>2019-12-12 13:40:05</td>\n",
       "    </tr>\n",
       "    <tr>\n",
       "      <th>991341570000541</th>\n",
       "      <td>2019-12-12 13:39:19</td>\n",
       "    </tr>\n",
       "    <tr>\n",
       "      <th>991341530000541</th>\n",
       "      <td>2019-12-12 13:39:25</td>\n",
       "    </tr>\n",
       "    <tr>\n",
       "      <th>991331350000541</th>\n",
       "      <td>2019-12-12 13:38:48</td>\n",
       "    </tr>\n",
       "    <tr>\n",
       "      <th>...</th>\n",
       "      <td>...</td>\n",
       "    </tr>\n",
       "    <tr>\n",
       "      <th>991446850000541</th>\n",
       "      <td>2019-12-12 13:57:30</td>\n",
       "    </tr>\n",
       "    <tr>\n",
       "      <th>991431450000541</th>\n",
       "      <td>2019-12-12 13:56:44</td>\n",
       "    </tr>\n",
       "    <tr>\n",
       "      <th>991435380000541</th>\n",
       "      <td>2019-12-12 13:57:08</td>\n",
       "    </tr>\n",
       "    <tr>\n",
       "      <th>991440110000541</th>\n",
       "      <td>2019-12-12 13:57:15</td>\n",
       "    </tr>\n",
       "    <tr>\n",
       "      <th>991424210000541</th>\n",
       "      <td>2019-12-12 13:56:18</td>\n",
       "    </tr>\n",
       "  </tbody>\n",
       "</table>\n",
       "<p>1136 rows × 1 columns</p>\n",
       "</div>"
      ],
      "text/plain": [
       "                       last_updated\n",
       "991353610000541 2019-12-12 13:39:57\n",
       "991358100000541 2019-12-12 13:40:05\n",
       "991341570000541 2019-12-12 13:39:19\n",
       "991341530000541 2019-12-12 13:39:25\n",
       "991331350000541 2019-12-12 13:38:48\n",
       "...                             ...\n",
       "991446850000541 2019-12-12 13:57:30\n",
       "991431450000541 2019-12-12 13:56:44\n",
       "991435380000541 2019-12-12 13:57:08\n",
       "991440110000541 2019-12-12 13:57:15\n",
       "991424210000541 2019-12-12 13:56:18\n",
       "\n",
       "[1136 rows x 1 columns]"
      ]
     },
     "execution_count": 39,
     "metadata": {},
     "output_type": "execute_result"
    }
   ],
   "source": [
    "pubprofile_fr = pd.DataFrame({'last_updated': [get_update_dt(rec) for rec in published]},\n",
    "                             index=[get_control_id(rec) for rec in published])\n",
    "pubprofile_fr"
   ]
  },
  {
   "cell_type": "code",
   "execution_count": 41,
   "id": "2306d145",
   "metadata": {},
   "outputs": [
    {
     "data": {
      "text/html": [
       "<div>\n",
       "<style scoped>\n",
       "    .dataframe tbody tr th:only-of-type {\n",
       "        vertical-align: middle;\n",
       "    }\n",
       "\n",
       "    .dataframe tbody tr th {\n",
       "        vertical-align: top;\n",
       "    }\n",
       "\n",
       "    .dataframe thead th {\n",
       "        text-align: right;\n",
       "    }\n",
       "</style>\n",
       "<table border=\"1\" class=\"dataframe\">\n",
       "  <thead>\n",
       "    <tr style=\"text-align: right;\">\n",
       "      <th></th>\n",
       "      <th>last_updated_manual</th>\n",
       "      <th>last_updated_profile</th>\n",
       "    </tr>\n",
       "  </thead>\n",
       "  <tbody>\n",
       "    <tr>\n",
       "      <th>991000500000541</th>\n",
       "      <td>2019-12-12 13:11:22</td>\n",
       "      <td>2019-12-12 13:11:22</td>\n",
       "    </tr>\n",
       "    <tr>\n",
       "      <th>991000810000541</th>\n",
       "      <td>2019-12-12 13:11:24</td>\n",
       "      <td>NaT</td>\n",
       "    </tr>\n",
       "    <tr>\n",
       "      <th>991000870000541</th>\n",
       "      <td>2019-12-12 13:11:33</td>\n",
       "      <td>2019-12-12 13:11:33</td>\n",
       "    </tr>\n",
       "    <tr>\n",
       "      <th>991000960000541</th>\n",
       "      <td>2019-12-12 13:11:24</td>\n",
       "      <td>2019-12-12 13:11:24</td>\n",
       "    </tr>\n",
       "    <tr>\n",
       "      <th>991011020000541</th>\n",
       "      <td>2019-12-12 13:12:09</td>\n",
       "      <td>2019-12-12 13:12:09</td>\n",
       "    </tr>\n",
       "    <tr>\n",
       "      <th>...</th>\n",
       "      <td>...</td>\n",
       "      <td>...</td>\n",
       "    </tr>\n",
       "    <tr>\n",
       "      <th>99999630000541</th>\n",
       "      <td>2019-12-12 13:11:20</td>\n",
       "      <td>2019-12-12 13:11:20</td>\n",
       "    </tr>\n",
       "    <tr>\n",
       "      <th>99999640000541</th>\n",
       "      <td>2019-12-12 13:11:29</td>\n",
       "      <td>2019-12-12 13:11:29</td>\n",
       "    </tr>\n",
       "    <tr>\n",
       "      <th>99999650000541</th>\n",
       "      <td>2019-12-12 13:11:19</td>\n",
       "      <td>2019-12-12 13:11:19</td>\n",
       "    </tr>\n",
       "    <tr>\n",
       "      <th>99999930000541</th>\n",
       "      <td>2019-12-12 13:11:26</td>\n",
       "      <td>2019-12-12 13:11:26</td>\n",
       "    </tr>\n",
       "    <tr>\n",
       "      <th>99999980000541</th>\n",
       "      <td>2019-12-12 13:11:25</td>\n",
       "      <td>2019-12-12 13:11:25</td>\n",
       "    </tr>\n",
       "  </tbody>\n",
       "</table>\n",
       "<p>1247 rows × 2 columns</p>\n",
       "</div>"
      ],
      "text/plain": [
       "                last_updated_manual last_updated_profile\n",
       "991000500000541 2019-12-12 13:11:22  2019-12-12 13:11:22\n",
       "991000810000541 2019-12-12 13:11:24                  NaT\n",
       "991000870000541 2019-12-12 13:11:33  2019-12-12 13:11:33\n",
       "991000960000541 2019-12-12 13:11:24  2019-12-12 13:11:24\n",
       "991011020000541 2019-12-12 13:12:09  2019-12-12 13:12:09\n",
       "...                             ...                  ...\n",
       "99999630000541  2019-12-12 13:11:20  2019-12-12 13:11:20\n",
       "99999640000541  2019-12-12 13:11:29  2019-12-12 13:11:29\n",
       "99999650000541  2019-12-12 13:11:19  2019-12-12 13:11:19\n",
       "99999930000541  2019-12-12 13:11:26  2019-12-12 13:11:26\n",
       "99999980000541  2019-12-12 13:11:25  2019-12-12 13:11:25\n",
       "\n",
       "[1247 rows x 2 columns]"
      ]
     },
     "execution_count": 41,
     "metadata": {},
     "output_type": "execute_result"
    }
   ],
   "source": [
    "joined = manual_fr.join(pubprofile_fr, how='outer', lsuffix='_manual', rsuffix='_profile')\n",
    "joined"
   ]
  },
  {
   "cell_type": "markdown",
   "id": "2c29d0d0",
   "metadata": {},
   "source": [
    "Are any records present in the publishing profile output that are missing in the manual export?"
   ]
  },
  {
   "cell_type": "code",
   "execution_count": 44,
   "id": "06364ded",
   "metadata": {},
   "outputs": [
    {
     "data": {
      "text/html": [
       "<div>\n",
       "<style scoped>\n",
       "    .dataframe tbody tr th:only-of-type {\n",
       "        vertical-align: middle;\n",
       "    }\n",
       "\n",
       "    .dataframe tbody tr th {\n",
       "        vertical-align: top;\n",
       "    }\n",
       "\n",
       "    .dataframe thead th {\n",
       "        text-align: right;\n",
       "    }\n",
       "</style>\n",
       "<table border=\"1\" class=\"dataframe\">\n",
       "  <thead>\n",
       "    <tr style=\"text-align: right;\">\n",
       "      <th></th>\n",
       "      <th>last_updated_manual</th>\n",
       "      <th>last_updated_profile</th>\n",
       "    </tr>\n",
       "  </thead>\n",
       "  <tbody>\n",
       "  </tbody>\n",
       "</table>\n",
       "</div>"
      ],
      "text/plain": [
       "Empty DataFrame\n",
       "Columns: [last_updated_manual, last_updated_profile]\n",
       "Index: []"
      ]
     },
     "execution_count": 44,
     "metadata": {},
     "output_type": "execute_result"
    }
   ],
   "source": [
    "joined[joined.last_updated_manual.isnull()]"
   ]
  },
  {
   "cell_type": "markdown",
   "id": "c36d2fe9",
   "metadata": {},
   "source": [
    "which records are missing in the publishing profile?"
   ]
  },
  {
   "cell_type": "code",
   "execution_count": 45,
   "id": "5757d405",
   "metadata": {},
   "outputs": [
    {
     "data": {
      "text/html": [
       "<div>\n",
       "<style scoped>\n",
       "    .dataframe tbody tr th:only-of-type {\n",
       "        vertical-align: middle;\n",
       "    }\n",
       "\n",
       "    .dataframe tbody tr th {\n",
       "        vertical-align: top;\n",
       "    }\n",
       "\n",
       "    .dataframe thead th {\n",
       "        text-align: right;\n",
       "    }\n",
       "</style>\n",
       "<table border=\"1\" class=\"dataframe\">\n",
       "  <thead>\n",
       "    <tr style=\"text-align: right;\">\n",
       "      <th></th>\n",
       "      <th>last_updated_manual</th>\n",
       "      <th>last_updated_profile</th>\n",
       "    </tr>\n",
       "  </thead>\n",
       "  <tbody>\n",
       "    <tr>\n",
       "      <th>991000810000541</th>\n",
       "      <td>2019-12-12 13:11:24</td>\n",
       "      <td>NaT</td>\n",
       "    </tr>\n",
       "    <tr>\n",
       "      <th>991011100000541</th>\n",
       "      <td>2019-12-12 13:12:14</td>\n",
       "      <td>NaT</td>\n",
       "    </tr>\n",
       "    <tr>\n",
       "      <th>991011320000541</th>\n",
       "      <td>2019-12-12 13:12:12</td>\n",
       "      <td>NaT</td>\n",
       "    </tr>\n",
       "    <tr>\n",
       "      <th>991011770000541</th>\n",
       "      <td>2019-12-12 13:12:12</td>\n",
       "      <td>NaT</td>\n",
       "    </tr>\n",
       "    <tr>\n",
       "      <th>991012300000541</th>\n",
       "      <td>2019-12-12 13:12:09</td>\n",
       "      <td>NaT</td>\n",
       "    </tr>\n",
       "    <tr>\n",
       "      <th>...</th>\n",
       "      <td>...</td>\n",
       "      <td>...</td>\n",
       "    </tr>\n",
       "    <tr>\n",
       "      <th>99998800000541</th>\n",
       "      <td>2019-12-12 13:11:22</td>\n",
       "      <td>NaT</td>\n",
       "    </tr>\n",
       "    <tr>\n",
       "      <th>99998960000541</th>\n",
       "      <td>2019-12-12 13:11:18</td>\n",
       "      <td>NaT</td>\n",
       "    </tr>\n",
       "    <tr>\n",
       "      <th>99999030000541</th>\n",
       "      <td>2019-12-12 13:11:24</td>\n",
       "      <td>NaT</td>\n",
       "    </tr>\n",
       "    <tr>\n",
       "      <th>99999040000541</th>\n",
       "      <td>2019-12-12 13:11:27</td>\n",
       "      <td>NaT</td>\n",
       "    </tr>\n",
       "    <tr>\n",
       "      <th>99999060000541</th>\n",
       "      <td>2019-12-12 13:11:28</td>\n",
       "      <td>NaT</td>\n",
       "    </tr>\n",
       "  </tbody>\n",
       "</table>\n",
       "<p>111 rows × 2 columns</p>\n",
       "</div>"
      ],
      "text/plain": [
       "                last_updated_manual last_updated_profile\n",
       "991000810000541 2019-12-12 13:11:24                  NaT\n",
       "991011100000541 2019-12-12 13:12:14                  NaT\n",
       "991011320000541 2019-12-12 13:12:12                  NaT\n",
       "991011770000541 2019-12-12 13:12:12                  NaT\n",
       "991012300000541 2019-12-12 13:12:09                  NaT\n",
       "...                             ...                  ...\n",
       "99998800000541  2019-12-12 13:11:22                  NaT\n",
       "99998960000541  2019-12-12 13:11:18                  NaT\n",
       "99999030000541  2019-12-12 13:11:24                  NaT\n",
       "99999040000541  2019-12-12 13:11:27                  NaT\n",
       "99999060000541  2019-12-12 13:11:28                  NaT\n",
       "\n",
       "[111 rows x 2 columns]"
      ]
     },
     "execution_count": 45,
     "metadata": {},
     "output_type": "execute_result"
    }
   ],
   "source": [
    "missing = joined[joined.last_updated_profile.isnull()]\n",
    "missing"
   ]
  },
  {
   "cell_type": "markdown",
   "id": "9aecc632",
   "metadata": {},
   "source": [
    "Any records not missing where the timestamps don't match?"
   ]
  },
  {
   "cell_type": "code",
   "execution_count": 47,
   "id": "89aa5ed6",
   "metadata": {},
   "outputs": [
    {
     "data": {
      "text/html": [
       "<div>\n",
       "<style scoped>\n",
       "    .dataframe tbody tr th:only-of-type {\n",
       "        vertical-align: middle;\n",
       "    }\n",
       "\n",
       "    .dataframe tbody tr th {\n",
       "        vertical-align: top;\n",
       "    }\n",
       "\n",
       "    .dataframe thead th {\n",
       "        text-align: right;\n",
       "    }\n",
       "</style>\n",
       "<table border=\"1\" class=\"dataframe\">\n",
       "  <thead>\n",
       "    <tr style=\"text-align: right;\">\n",
       "      <th></th>\n",
       "      <th>last_updated_manual</th>\n",
       "      <th>last_updated_profile</th>\n",
       "    </tr>\n",
       "  </thead>\n",
       "  <tbody>\n",
       "  </tbody>\n",
       "</table>\n",
       "</div>"
      ],
      "text/plain": [
       "Empty DataFrame\n",
       "Columns: [last_updated_manual, last_updated_profile]\n",
       "Index: []"
      ]
     },
     "execution_count": 47,
     "metadata": {},
     "output_type": "execute_result"
    }
   ],
   "source": [
    "both = joined[joined.last_updated_profile.notnull()]\n",
    "mismatch = both[both.last_updated_profile != both.last_updated_manual]\n",
    "mismatch"
   ]
  },
  {
   "cell_type": "markdown",
   "id": "d93a9d9c",
   "metadata": {},
   "source": [
    "Let's see whether there is anything about those 111 missing records by making a set!"
   ]
  },
  {
   "cell_type": "code",
   "execution_count": 49,
   "id": "e99f1e34",
   "metadata": {},
   "outputs": [],
   "source": [
    "from nlm_alma import SetsApi\n",
    "\n",
    "sets_api = SetsApi(client)"
   ]
  },
  {
   "cell_type": "code",
   "execution_count": 52,
   "id": "ac3de331",
   "metadata": {},
   "outputs": [
    {
     "data": {
      "text/plain": [
       "{'additional_info': None,\n",
       " 'content': {'desc': 'All Titles', 'value': 'BIB_MMS'},\n",
       " 'created_by': {'desc': 'API, Ex Libris', 'value': 'exl_api'},\n",
       " 'created_date': datetime.datetime(2021, 7, 29, 16, 29, 51, 160000, tzinfo=tzutc()),\n",
       " 'description': 'Records that were published manually but were missing from '\n",
       "                'the profile',\n",
       " 'id': '1590225700006676',\n",
       " 'link': 'https://api-na.hosted.exlibrisgroup.com/almaws/v1/conf/sets/1590225700006676',\n",
       " 'members': None,\n",
       " 'name': 'Missing Records from pubprofile',\n",
       " 'note': None,\n",
       " 'number_of_members': {'link': 'https://api-na.hosted.exlibrisgroup.com/almaws/v1/conf/sets/1590225700006676/members',\n",
       "                       'value': '0'},\n",
       " 'origin': {'desc': 'Institution only', 'value': 'UI'},\n",
       " 'private': {'desc': 'No', 'value': 'false'},\n",
       " 'query': None,\n",
       " 'status': {'desc': 'Active', 'value': 'ACTIVE'},\n",
       " 'status_date': datetime.datetime(2021, 7, 29, 16, 29, 51, 160000, tzinfo=tzutc()),\n",
       " 'type': {'desc': 'Itemized', 'value': 'ITEMIZED'}}"
      ]
     },
     "execution_count": 52,
     "metadata": {},
     "output_type": "execute_result"
    }
   ],
   "source": [
    "body = {\n",
    "    'name': 'Missing Records from pubprofile',\n",
    "    'description': 'Records that were published manually but were missing from the profile',\n",
    "    'type': {'value': 'ITEMIZED'},\n",
    "    'content': {'value': 'BIB_MMS'},\n",
    "    'private': {'value': 'false'},\n",
    "    'status': {'value': 'ACTIVE'},\n",
    "    'origin': {'value': 'UI'},\n",
    "}\n",
    "set_obj = sets_api.create_set(body)\n",
    "set_obj"
   ]
  },
  {
   "cell_type": "code",
   "execution_count": 54,
   "id": "2a25f323",
   "metadata": {},
   "outputs": [
    {
     "data": {
      "text/plain": [
       "{'total_record_count': 111,\n",
       " 'member': [{'id': '991000810000541'},\n",
       "  {'id': '991011100000541'},\n",
       "  {'id': '991011320000541'},\n",
       "  {'id': '991011770000541'},\n",
       "  {'id': '991012300000541'},\n",
       "  {'id': '991012380000541'},\n",
       "  {'id': '991012510000541'},\n",
       "  {'id': '991012560000541'},\n",
       "  {'id': '991012850000541'},\n",
       "  {'id': '991012920000541'},\n",
       "  {'id': '991015840000541'},\n",
       "  {'id': '991021460000541'},\n",
       "  {'id': '991025590000541'},\n",
       "  {'id': '991027170000541'},\n",
       "  {'id': '991027250000541'},\n",
       "  {'id': '991027480000541'},\n",
       "  {'id': '991027530000541'},\n",
       "  {'id': '991027550000541'},\n",
       "  {'id': '991027570000541'},\n",
       "  {'id': '991028340000541'},\n",
       "  {'id': '991028440000541'},\n",
       "  {'id': '991028500000541'},\n",
       "  {'id': '991028570000541'},\n",
       "  {'id': '991028610000541'},\n",
       "  {'id': '991028680000541'},\n",
       "  {'id': '991028710000541'},\n",
       "  {'id': '991028890000541'},\n",
       "  {'id': '991028950000541'},\n",
       "  {'id': '991029050000541'},\n",
       "  {'id': '991029160000541'},\n",
       "  {'id': '991029200000541'},\n",
       "  {'id': '991029540000541'},\n",
       "  {'id': '991029610000541'},\n",
       "  {'id': '991029680000541'},\n",
       "  {'id': '991029760000541'},\n",
       "  {'id': '991029890000541'},\n",
       "  {'id': '991030120000541'},\n",
       "  {'id': '991030840000541'},\n",
       "  {'id': '991030860000541'},\n",
       "  {'id': '991030920000541'},\n",
       "  {'id': '991030960000541'},\n",
       "  {'id': '991031000000541'},\n",
       "  {'id': '991031120000541'},\n",
       "  {'id': '991039700000541'},\n",
       "  {'id': '991049420000541'},\n",
       "  {'id': '991050160000541'},\n",
       "  {'id': '991172210000541'},\n",
       "  {'id': '991278940000541'},\n",
       "  {'id': '991291060000541'},\n",
       "  {'id': '991326790000541'},\n",
       "  {'id': '991388460000541'},\n",
       "  {'id': '991391320000541'},\n",
       "  {'id': '991395150000541'},\n",
       "  {'id': '991395490000541'},\n",
       "  {'id': '991397440000541'},\n",
       "  {'id': '991404160000541'},\n",
       "  {'id': '991409780000541'},\n",
       "  {'id': '991425330000541'},\n",
       "  {'id': '991437000000541'},\n",
       "  {'id': '991474300000541'},\n",
       "  {'id': '991546850000541'},\n",
       "  {'id': '991558500000541'},\n",
       "  {'id': '99215841400521'},\n",
       "  {'id': '992174090000521'},\n",
       "  {'id': '992323520000521'},\n",
       "  {'id': '992323540000521'},\n",
       "  {'id': '992323650000521'},\n",
       "  {'id': '992394150000521'},\n",
       "  {'id': '99245641200521'},\n",
       "  {'id': '99245641300521'},\n",
       "  {'id': '9927411900521'},\n",
       "  {'id': '9927566800521'},\n",
       "  {'id': '9927657500521'},\n",
       "  {'id': '9927753600521'},\n",
       "  {'id': '9927781400521'},\n",
       "  {'id': '9927969100521'},\n",
       "  {'id': '9928079700521'},\n",
       "  {'id': '9928106200521'},\n",
       "  {'id': '9928262000521'},\n",
       "  {'id': '9928379000521'},\n",
       "  {'id': '9928506500521'},\n",
       "  {'id': '9931041000521'},\n",
       "  {'id': '99917170000541'},\n",
       "  {'id': '99917310000541'},\n",
       "  {'id': '99918600000541'},\n",
       "  {'id': '99938350000541'},\n",
       "  {'id': '99942390000541'},\n",
       "  {'id': '99946560000541'},\n",
       "  {'id': '99949420000541'},\n",
       "  {'id': '99950780000541'},\n",
       "  {'id': '99956200000541'},\n",
       "  {'id': '99962330000541'},\n",
       "  {'id': '99962550000541'},\n",
       "  {'id': '99962700000541'},\n",
       "  {'id': '99963180000541'},\n",
       "  {'id': '99963250000541'},\n",
       "  {'id': '99963720000541'},\n",
       "  {'id': '99965360000541'},\n",
       "  {'id': '99965690000541'},\n",
       "  {'id': '99970530000541'},\n",
       "  {'id': '99982760000541'},\n",
       "  {'id': '99983990000541'},\n",
       "  {'id': '99985620000541'},\n",
       "  {'id': '99997940000541'},\n",
       "  {'id': '99997980000541'},\n",
       "  {'id': '99998020000541'},\n",
       "  {'id': '99998800000541'},\n",
       "  {'id': '99998960000541'},\n",
       "  {'id': '99999030000541'},\n",
       "  {'id': '99999040000541'},\n",
       "  {'id': '99999060000541'}]}"
      ]
     },
     "execution_count": 54,
     "metadata": {},
     "output_type": "execute_result"
    }
   ],
   "source": [
    "members = {\n",
    "    'total_record_count': len(missing),\n",
    "    'member': [ {'id': mmsid} for mmsid in missing.index]\n",
    "}\n",
    "members"
   ]
  },
  {
   "cell_type": "code",
   "execution_count": 56,
   "id": "6f22e477",
   "metadata": {},
   "outputs": [
    {
     "data": {
      "text/plain": [
       "{'additional_info': None,\n",
       " 'content': {'desc': 'All Titles', 'value': 'BIB_MMS'},\n",
       " 'created_by': {'desc': 'API, Ex Libris', 'value': 'exl_api'},\n",
       " 'created_date': datetime.datetime(2021, 7, 29, 16, 29, 51, 160000, tzinfo=tzutc()),\n",
       " 'description': 'Records that were published manually but were missing from '\n",
       "                'the profile',\n",
       " 'id': '1590225700006676',\n",
       " 'link': 'https://api-na.hosted.exlibrisgroup.com/almaws/v1/conf/sets/1590225700006676',\n",
       " 'members': None,\n",
       " 'name': 'Missing Records from pubprofile',\n",
       " 'note': None,\n",
       " 'number_of_members': {'link': 'https://api-na.hosted.exlibrisgroup.com/almaws/v1/conf/sets/1590225700006676/members',\n",
       "                       'value': '98'},\n",
       " 'origin': {'desc': 'Institution only', 'value': 'UI'},\n",
       " 'private': {'desc': 'No', 'value': 'false'},\n",
       " 'query': None,\n",
       " 'status': {'desc': 'Active', 'value': 'ACTIVE'},\n",
       " 'status_date': datetime.datetime(2021, 7, 29, 16, 29, 51, 160000, tzinfo=tzutc()),\n",
       " 'type': {'desc': 'Itemized', 'value': 'ITEMIZED'}}"
      ]
     },
     "execution_count": 56,
     "metadata": {},
     "output_type": "execute_result"
    }
   ],
   "source": [
    "set_obj.members = members\n",
    "response = sets_api.manage_set_members(set_obj, 'add_members', set_obj.id)\n",
    "response"
   ]
  }
 ],
 "metadata": {
  "kernelspec": {
   "display_name": "Python 3",
   "language": "python",
   "name": "python3"
  },
  "language_info": {
   "codemirror_mode": {
    "name": "ipython",
    "version": 3
   },
   "file_extension": ".py",
   "mimetype": "text/x-python",
   "name": "python",
   "nbconvert_exporter": "python",
   "pygments_lexer": "ipython3",
   "version": "3.8.10"
  }
 },
 "nbformat": 4,
 "nbformat_minor": 5
}
