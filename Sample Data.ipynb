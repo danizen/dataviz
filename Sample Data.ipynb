{
 "cells": [
  {
   "cell_type": "markdown",
   "id": "57e10ada",
   "metadata": {},
   "source": [
    "## Sample Data\n",
    "\n",
    "The idea here is to use pandas to create some sample data for graphical display inside of Power BI. Maybe that's how we do it, we extract data, we massage it until it is right, and then we write it to OneDrive and we are done. Power BI takes it from there."
   ]
  },
  {
   "cell_type": "code",
   "execution_count": 1,
   "id": "8b7b2cab",
   "metadata": {},
   "outputs": [],
   "source": [
    "import pandas as pd\n",
    "import numpy as np"
   ]
  },
  {
   "cell_type": "code",
   "execution_count": 3,
   "id": "6bea7be3",
   "metadata": {},
   "outputs": [],
   "source": [
    "from faker import Faker"
   ]
  },
  {
   "cell_type": "code",
   "execution_count": 6,
   "id": "42982b32",
   "metadata": {},
   "outputs": [],
   "source": [
    "fake = Faker()"
   ]
  },
  {
   "cell_type": "code",
   "execution_count": 19,
   "id": "c236907d",
   "metadata": {},
   "outputs": [
    {
     "data": {
      "text/html": [
       "<div>\n",
       "<style scoped>\n",
       "    .dataframe tbody tr th:only-of-type {\n",
       "        vertical-align: middle;\n",
       "    }\n",
       "\n",
       "    .dataframe tbody tr th {\n",
       "        vertical-align: top;\n",
       "    }\n",
       "\n",
       "    .dataframe thead th {\n",
       "        text-align: right;\n",
       "    }\n",
       "</style>\n",
       "<table border=\"1\" class=\"dataframe\">\n",
       "  <thead>\n",
       "    <tr style=\"text-align: right;\">\n",
       "      <th></th>\n",
       "      <th>sales</th>\n",
       "      <th>name</th>\n",
       "      <th>username</th>\n",
       "    </tr>\n",
       "  </thead>\n",
       "  <tbody>\n",
       "    <tr>\n",
       "      <th>0</th>\n",
       "      <td>1.216774e+06</td>\n",
       "      <td>Kelsey Huff</td>\n",
       "      <td>sanchezpatricia</td>\n",
       "    </tr>\n",
       "    <tr>\n",
       "      <th>1</th>\n",
       "      <td>1.101327e+06</td>\n",
       "      <td>Jeanette Mcguire</td>\n",
       "      <td>wmoore</td>\n",
       "    </tr>\n",
       "    <tr>\n",
       "      <th>2</th>\n",
       "      <td>1.284112e+06</td>\n",
       "      <td>Amber Edwards</td>\n",
       "      <td>raymondfrederick</td>\n",
       "    </tr>\n",
       "    <tr>\n",
       "      <th>3</th>\n",
       "      <td>1.047532e+06</td>\n",
       "      <td>Juan Martinez</td>\n",
       "      <td>joseph41</td>\n",
       "    </tr>\n",
       "    <tr>\n",
       "      <th>4</th>\n",
       "      <td>8.634570e+05</td>\n",
       "      <td>Austin Martin</td>\n",
       "      <td>danielle46</td>\n",
       "    </tr>\n",
       "    <tr>\n",
       "      <th>5</th>\n",
       "      <td>1.027388e+06</td>\n",
       "      <td>Kyle Smith</td>\n",
       "      <td>heatherjackson</td>\n",
       "    </tr>\n",
       "    <tr>\n",
       "      <th>6</th>\n",
       "      <td>1.135259e+06</td>\n",
       "      <td>Joe Cole</td>\n",
       "      <td>fjones</td>\n",
       "    </tr>\n",
       "    <tr>\n",
       "      <th>7</th>\n",
       "      <td>5.954041e+05</td>\n",
       "      <td>Victoria Henderson</td>\n",
       "      <td>caitlinhernandez</td>\n",
       "    </tr>\n",
       "    <tr>\n",
       "      <th>8</th>\n",
       "      <td>1.079440e+06</td>\n",
       "      <td>Tammy Sweeney</td>\n",
       "      <td>harrisnancy</td>\n",
       "    </tr>\n",
       "    <tr>\n",
       "      <th>9</th>\n",
       "      <td>4.885826e+05</td>\n",
       "      <td>Gina Rios</td>\n",
       "      <td>jacksonspencer</td>\n",
       "    </tr>\n",
       "  </tbody>\n",
       "</table>\n",
       "</div>"
      ],
      "text/plain": [
       "          sales                name          username\n",
       "0  1.216774e+06         Kelsey Huff   sanchezpatricia\n",
       "1  1.101327e+06    Jeanette Mcguire            wmoore\n",
       "2  1.284112e+06       Amber Edwards  raymondfrederick\n",
       "3  1.047532e+06       Juan Martinez          joseph41\n",
       "4  8.634570e+05       Austin Martin        danielle46\n",
       "5  1.027388e+06          Kyle Smith    heatherjackson\n",
       "6  1.135259e+06            Joe Cole            fjones\n",
       "7  5.954041e+05  Victoria Henderson  caitlinhernandez\n",
       "8  1.079440e+06       Tammy Sweeney       harrisnancy\n",
       "9  4.885826e+05           Gina Rios    jacksonspencer"
      ]
     },
     "execution_count": 19,
     "metadata": {},
     "output_type": "execute_result"
    }
   ],
   "source": [
    "sales_team = [fake.first_name() + ' ' + fake.last_name() for _ in range(10)]\n",
    "df = pd.DataFrame({\n",
    "    'sales': (7 + np.random.normal(1000, 300, 10)) * 1000,\n",
    "    'name': sales_team,\n",
    "    'username': [fake.user_name() for _ in range(10)],\n",
    "})\n",
    "df"
   ]
  },
  {
   "cell_type": "code",
   "execution_count": 21,
   "id": "80fae543",
   "metadata": {},
   "outputs": [],
   "source": [
    "df.to_csv('sales.csv', index=False)"
   ]
  }
 ],
 "metadata": {
  "kernelspec": {
   "display_name": "Python 3",
   "language": "python",
   "name": "python3"
  },
  "language_info": {
   "codemirror_mode": {
    "name": "ipython",
    "version": 3
   },
   "file_extension": ".py",
   "mimetype": "text/x-python",
   "name": "python",
   "nbconvert_exporter": "python",
   "pygments_lexer": "ipython3",
   "version": "3.8.10"
  }
 },
 "nbformat": 4,
 "nbformat_minor": 5
}
